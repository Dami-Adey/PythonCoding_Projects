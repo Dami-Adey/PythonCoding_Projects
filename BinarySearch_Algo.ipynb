{
  "nbformat": 4,
  "nbformat_minor": 0,
  "metadata": {
    "colab": {
      "provenance": [],
      "authorship_tag": "ABX9TyNwgPrUSaEyU5OoTF/IfIjw",
      "include_colab_link": true
    },
    "kernelspec": {
      "name": "python3",
      "display_name": "Python 3"
    },
    "language_info": {
      "name": "python"
    }
  },
  "cells": [
    {
      "cell_type": "markdown",
      "metadata": {
        "id": "view-in-github",
        "colab_type": "text"
      },
      "source": [
        "<a href=\"https://colab.research.google.com/github/Dami-Adey/PythonCoding_Projects/blob/main/BinarySearch_Algo.ipynb\" target=\"_parent\"><img src=\"https://colab.research.google.com/assets/colab-badge.svg\" alt=\"Open In Colab\"/></a>"
      ]
    },
    {
      "cell_type": "code",
      "execution_count": 8,
      "metadata": {
        "id": "_YYApr2EoZ3J"
      },
      "outputs": [],
      "source": [
        "def binarySearch(list, search):\n",
        "  iter = 0\n",
        "  low = 0\n",
        "  high = len(list) - 1\n",
        "\n",
        "  while high >= low:\n",
        "    mid = int((low + high)/2)\n",
        "    check = list[mid]\n",
        "    iter += 1\n",
        "    if check == search:\n",
        "      print(f\"'{search}' is in index {mid}. ({iter} iterations)\")\n",
        "      return None\n",
        "    elif check < search:\n",
        "      low = mid + 1\n",
        "    else:\n",
        "      high = mid - 1\n",
        "  \n",
        "  print(f\"'{search}' does not exist in list. ({iter} iterations)\")\n",
        "  return None"
      ]
    },
    {
      "cell_type": "code",
      "source": [
        "test = [num**2 for num in range(20)]\n",
        "print(f\"The test list is {test}\\n\")\n",
        "\n",
        "binarySearch(test, 200)"
      ],
      "metadata": {
        "colab": {
          "base_uri": "https://localhost:8080/"
        },
        "id": "NBAxJFcWob8Y",
        "outputId": "2f1820c5-4f8f-4e27-e96d-e9163ed84930"
      },
      "execution_count": 9,
      "outputs": [
        {
          "output_type": "stream",
          "name": "stdout",
          "text": [
            "The test list is [0, 1, 4, 9, 16, 25, 36, 49, 64, 81, 100, 121, 144, 169, 196, 225, 256, 289, 324, 361]\n",
            "\n",
            "'200' does not exist in list. (4 iterations)\n"
          ]
        }
      ]
    },
    {
      "cell_type": "code",
      "source": [
        "test = [num**2 for num in range(20)]\n",
        "print(f\"The test list is {test}\\n\")\n",
        "\n",
        "binarySearch(test, 49)"
      ],
      "metadata": {
        "id": "G5h6XoalobwC",
        "colab": {
          "base_uri": "https://localhost:8080/"
        },
        "outputId": "db366f3f-3d84-4e4f-b6e7-c116969143b7"
      },
      "execution_count": 10,
      "outputs": [
        {
          "output_type": "stream",
          "name": "stdout",
          "text": [
            "The test list is [0, 1, 4, 9, 16, 25, 36, 49, 64, 81, 100, 121, 144, 169, 196, 225, 256, 289, 324, 361]\n",
            "\n",
            "'49' is in index 7. (4 iterations)\n"
          ]
        }
      ]
    },
    {
      "cell_type": "code",
      "source": [],
      "metadata": {
        "id": "iwkAVBpLobj_"
      },
      "execution_count": null,
      "outputs": []
    }
  ]
}